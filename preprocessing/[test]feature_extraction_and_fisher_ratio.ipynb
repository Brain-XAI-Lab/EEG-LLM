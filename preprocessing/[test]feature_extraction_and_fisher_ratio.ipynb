{
 "cells": [
  {
   "cell_type": "code",
   "execution_count": 1,
   "metadata": {
    "ExecuteTime": {
     "end_time": "2024-06-03T04:21:11.293074Z",
     "start_time": "2024-06-03T04:21:10.627349Z"
    }
   },
   "outputs": [
    {
     "ename": "ImportError",
     "evalue": "cannot import name 'load_eeg_data_toNumpy' from 'feature_extraction' (c:\\Users\\windows\\Desktop\\EEG-GPT\\preprocessing\\feature_extraction.py)",
     "output_type": "error",
     "traceback": [
      "\u001b[1;31m---------------------------------------------------------------------------\u001b[0m",
      "\u001b[1;31mImportError\u001b[0m                               Traceback (most recent call last)",
      "Cell \u001b[1;32mIn[1], line 2\u001b[0m\n\u001b[0;32m      1\u001b[0m \u001b[38;5;28;01mimport\u001b[39;00m \u001b[38;5;21;01mpandas\u001b[39;00m \u001b[38;5;28;01mas\u001b[39;00m \u001b[38;5;21;01mpd\u001b[39;00m\n\u001b[1;32m----> 2\u001b[0m \u001b[38;5;28;01mfrom\u001b[39;00m \u001b[38;5;21;01mfeature_extraction\u001b[39;00m \u001b[38;5;28;01mimport\u001b[39;00m load_eeg_data, compute_band_power, extract_features, load_eeg_data_toNumpy\n\u001b[0;32m      3\u001b[0m \u001b[38;5;28;01mfrom\u001b[39;00m \u001b[38;5;21;01mfisher_ratio\u001b[39;00m \u001b[38;5;28;01mimport\u001b[39;00m calculate_fisher_ratio, sort_fisher_ratios\n",
      "\u001b[1;31mImportError\u001b[0m: cannot import name 'load_eeg_data_toNumpy' from 'feature_extraction' (c:\\Users\\windows\\Desktop\\EEG-GPT\\preprocessing\\feature_extraction.py)"
     ]
    }
   ],
   "source": [
    "import pandas as pd\n",
    "from feature_extraction import load_eeg_data, compute_band_power, extract_features, load_eeg_data_toNumpy\n",
    "from fisher_ratio import calculate_fisher_ratio, sort_fisher_ratios"
   ]
  },
  {
   "cell_type": "code",
   "execution_count": null,
   "metadata": {
    "ExecuteTime": {
     "end_time": "2024-06-03T04:21:12.755281Z",
     "start_time": "2024-06-03T04:21:11.294284Z"
    }
   },
   "outputs": [],
   "source": [
    "# EEG 데이터 파일 경로\n",
    "file_path = '/Users/imdohyeon/Documents/PythonWorkspace/EEG-GPT/Dataset/final_eeg_data_labeled.csv'\n",
    "data = load_eeg_data(file_path)"
   ]
  },
  {
   "cell_type": "code",
   "execution_count": null,
   "metadata": {
    "ExecuteTime": {
     "end_time": "2024-06-03T04:23:26.656744Z",
     "start_time": "2024-06-03T04:23:26.635930Z"
    }
   },
   "outputs": [],
   "source": [
    "data"
   ]
  },
  {
   "cell_type": "code",
   "execution_count": null,
   "metadata": {
    "ExecuteTime": {
     "end_time": "2024-06-03T04:23:36.435686Z",
     "start_time": "2024-06-03T04:23:36.171771Z"
    }
   },
   "outputs": [],
   "source": [
    "features = extract_features(data)"
   ]
  },
  {
   "cell_type": "code",
   "execution_count": null,
   "metadata": {
    "ExecuteTime": {
     "end_time": "2024-06-03T04:19:20.275266Z",
     "start_time": "2024-06-03T04:19:20.258642Z"
    }
   },
   "outputs": [],
   "source": [
    "features"
   ]
  },
  {
   "cell_type": "code",
   "execution_count": null,
   "metadata": {
    "ExecuteTime": {
     "end_time": "2024-06-03T02:31:29.473922Z",
     "start_time": "2024-06-03T02:31:29.118209Z"
    }
   },
   "outputs": [],
   "source": [
    "# 데이터 컬럼명 설정 (가정: 마지막 열이 라벨)\n",
    "# dataforfisher.columns = [f'channel_{i+1}' for i in range(dataforfisher.shape[1] - 1)] + ['label']\n",
    "\n",
    "# Fisher Ratio 계산\n",
    "fisher_ratios = calculate_fisher_ratio(data)\n",
    "fisher_ratios"
   ]
  },
  {
   "cell_type": "code",
   "execution_count": null,
   "metadata": {
    "ExecuteTime": {
     "end_time": "2024-06-03T02:31:29.478649Z",
     "start_time": "2024-06-03T02:31:29.474800Z"
    }
   },
   "outputs": [],
   "source": [
    "# Fisher Ratios를 내림차순으로 정렬\n",
    "sorted_fisher_ratios = sort_fisher_ratios(fisher_ratios)\n",
    "sorted_fisher_ratios"
   ]
  },
  {
   "cell_type": "markdown",
   "metadata": {},
   "source": [
    "# numpy 사용해서 실험"
   ]
  },
  {
   "cell_type": "code",
   "execution_count": null,
   "metadata": {
    "ExecuteTime": {
     "end_time": "2024-06-03T03:24:43.017834Z",
     "start_time": "2024-06-03T03:24:42.485084Z"
    }
   },
   "outputs": [],
   "source": [
    "import pandas as pd\n",
    "from feature_extraction import load_eeg_data, compute_band_power, extract_features, load_eeg_data_toNumpy\n",
    "from fisher_ratio import calculate_fisher_ratio, sort_fisher_ratios"
   ]
  },
  {
   "cell_type": "code",
   "execution_count": null,
   "metadata": {
    "ExecuteTime": {
     "end_time": "2024-06-03T03:24:44.443388Z",
     "start_time": "2024-06-03T03:24:43.019027Z"
    }
   },
   "outputs": [],
   "source": [
    "file_path = '/Users/imdohyeon/Documents/PythonWorkspace/EEG-GPT/Dataset/final_eeg_data_labeled.csv'\n",
    "data2 = load_eeg_data_toNumpy(file_path)\n",
    "data2"
   ]
  },
  {
   "cell_type": "code",
   "execution_count": null,
   "metadata": {
    "ExecuteTime": {
     "end_time": "2024-06-03T03:24:45.535732Z",
     "start_time": "2024-06-03T03:24:44.920646Z"
    }
   },
   "outputs": [],
   "source": [
    "features = extract_features(data2)"
   ]
  },
  {
   "cell_type": "code",
   "execution_count": null,
   "metadata": {
    "ExecuteTime": {
     "end_time": "2024-06-03T03:24:46.165737Z",
     "start_time": "2024-06-03T03:24:46.147564Z"
    }
   },
   "outputs": [],
   "source": [
    "features"
   ]
  },
  {
   "cell_type": "code",
   "execution_count": null,
   "metadata": {
    "ExecuteTime": {
     "end_time": "2024-06-03T03:25:08.633621Z",
     "start_time": "2024-06-03T03:25:08.265922Z"
    }
   },
   "outputs": [],
   "source": [
    "fisher_ratios = calculate_fisher_ratio(data2)\n",
    "fisher_ratios"
   ]
  },
  {
   "cell_type": "code",
   "execution_count": null,
   "metadata": {
    "ExecuteTime": {
     "end_time": "2024-06-03T03:25:19.464400Z",
     "start_time": "2024-06-03T03:25:19.459451Z"
    }
   },
   "outputs": [],
   "source": [
    "sorted_fisher_ratios = sort_fisher_ratios(fisher_ratios)\n",
    "sorted_fisher_ratios"
   ]
  }
 ],
 "metadata": {
  "kernelspec": {
   "display_name": "Python 3",
   "language": "python",
   "name": "python3"
  },
  "language_info": {
   "codemirror_mode": {
    "name": "ipython",
    "version": 3
   },
   "file_extension": ".py",
   "mimetype": "text/x-python",
   "name": "python",
   "nbconvert_exporter": "python",
   "pygments_lexer": "ipython3",
   "version": "3.12.2"
  }
 },
 "nbformat": 4,
 "nbformat_minor": 2
}
