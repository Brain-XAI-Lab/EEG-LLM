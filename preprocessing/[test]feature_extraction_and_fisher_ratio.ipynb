{
 "cells": [
  {
   "metadata": {
    "ExecuteTime": {
     "end_time": "2024-06-03T04:21:11.293074Z",
     "start_time": "2024-06-03T04:21:10.627349Z"
    }
   },
   "cell_type": "code",
   "source": [
    "import pandas as pd\n",
    "from feature_extraction import load_eeg_data, compute_band_power, extract_features, load_eeg_data_toNumpy\n",
    "from fisher_ratio import calculate_fisher_ratio, sort_fisher_ratios"
   ],
   "execution_count": 1,
   "outputs": []
  },
  {
   "metadata": {
    "ExecuteTime": {
     "end_time": "2024-06-03T04:21:12.755281Z",
     "start_time": "2024-06-03T04:21:11.294284Z"
    }
   },
   "cell_type": "code",
   "source": [
    "# EEG 데이터 파일 경로\n",
    "file_path = '/Users/imdohyeon/Documents/PythonWorkspace/EEG-GPT/Dataset/final_eeg_data_labeled.csv'\n",
    "data = load_eeg_data(file_path)"
   ],
   "execution_count": 2,
   "outputs": []
  },
  {
   "metadata": {
    "ExecuteTime": {
     "end_time": "2024-06-03T04:23:26.656744Z",
     "start_time": "2024-06-03T04:23:26.635930Z"
    }
   },
   "cell_type": "code",
   "source": "data",
   "execution_count": 6,
   "outputs": []
  },
  {
   "metadata": {
    "ExecuteTime": {
     "end_time": "2024-06-03T04:23:36.435686Z",
     "start_time": "2024-06-03T04:23:36.171771Z"
    }
   },
   "cell_type": "code",
   "source": "features = extract_features(data)",
   "execution_count": 7,
   "outputs": []
  },
  {
   "metadata": {
    "ExecuteTime": {
     "end_time": "2024-06-03T04:19:20.275266Z",
     "start_time": "2024-06-03T04:19:20.258642Z"
    }
   },
   "cell_type": "code",
   "source": "features",
   "execution_count": 5,
   "outputs": []
  },
  {
   "metadata": {
    "ExecuteTime": {
     "end_time": "2024-06-03T02:31:29.473922Z",
     "start_time": "2024-06-03T02:31:29.118209Z"
    }
   },
   "cell_type": "code",
   "source": [
    "# 데이터 컬럼명 설정 (가정: 마지막 열이 라벨)\n",
    "# dataforfisher.columns = [f'channel_{i+1}' for i in range(dataforfisher.shape[1] - 1)] + ['label']\n",
    "\n",
    "# Fisher Ratio 계산\n",
    "fisher_ratios = calculate_fisher_ratio(data)\n",
    "fisher_ratios"
   ],
   "execution_count": 6,
   "outputs": []
  },
  {
   "metadata": {
    "ExecuteTime": {
     "end_time": "2024-06-03T02:31:29.478649Z",
     "start_time": "2024-06-03T02:31:29.474800Z"
    }
   },
   "cell_type": "code",
   "source": [
    "# Fisher Ratios를 내림차순으로 정렬\n",
    "sorted_fisher_ratios = sort_fisher_ratios(fisher_ratios)\n",
    "sorted_fisher_ratios"
   ],
   "execution_count": 7,
   "outputs": []
  },
  {
   "metadata": {},
   "cell_type": "markdown",
   "source": "# numpy 사용해서 실험"
  },
  {
   "metadata": {
    "ExecuteTime": {
     "end_time": "2024-06-03T03:24:43.017834Z",
     "start_time": "2024-06-03T03:24:42.485084Z"
    }
   },
   "cell_type": "code",
   "source": [
    "import pandas as pd\n",
    "from feature_extraction import load_eeg_data, compute_band_power, extract_features, load_eeg_data_toNumpy\n",
    "from fisher_ratio import calculate_fisher_ratio, sort_fisher_ratios"
   ],
   "execution_count": 1,
   "outputs": []
  },
  {
   "metadata": {
    "ExecuteTime": {
     "end_time": "2024-06-03T03:24:44.443388Z",
     "start_time": "2024-06-03T03:24:43.019027Z"
    }
   },
   "cell_type": "code",
   "source": [
    "file_path = '/Users/imdohyeon/Documents/PythonWorkspace/EEG-GPT/Dataset/final_eeg_data_labeled.csv'\n",
    "data2 = load_eeg_data_toNumpy(file_path)\n",
    "data2"
   ],
   "execution_count": 2,
   "outputs": []
  },
  {
   "metadata": {
    "ExecuteTime": {
     "end_time": "2024-06-03T03:24:45.535732Z",
     "start_time": "2024-06-03T03:24:44.920646Z"
    }
   },
   "cell_type": "code",
   "source": "features = extract_features(data2)",
   "execution_count": 3,
   "outputs": []
  },
  {
   "metadata": {
    "ExecuteTime": {
     "end_time": "2024-06-03T03:24:46.165737Z",
     "start_time": "2024-06-03T03:24:46.147564Z"
    }
   },
   "cell_type": "code",
   "source": "features",
   "execution_count": 4,
   "outputs": []
  },
  {
   "metadata": {
    "ExecuteTime": {
     "end_time": "2024-06-03T03:25:08.633621Z",
     "start_time": "2024-06-03T03:25:08.265922Z"
    }
   },
   "cell_type": "code",
   "source": [
    "fisher_ratios = calculate_fisher_ratio(data2)\n",
    "fisher_ratios"
   ],
   "execution_count": 5,
   "outputs": []
  },
  {
   "metadata": {
    "ExecuteTime": {
     "end_time": "2024-06-03T03:25:19.464400Z",
     "start_time": "2024-06-03T03:25:19.459451Z"
    }
   },
   "cell_type": "code",
   "source": [
    "sorted_fisher_ratios = sort_fisher_ratios(fisher_ratios)\n",
    "sorted_fisher_ratios"
   ],
   "execution_count": 6,
   "outputs": []
  },
  {
   "metadata": {},
   "cell_type": "code",
   "execution_count": null,
   "source": "",
   "outputs": []
  }
 ],
 "metadata": {
  "kernelspec": {
   "display_name": "Python 3",
   "language": "python",
   "name": "python3"
  },
  "language_info": {
   "codemirror_mode": {
    "name": "ipython",
    "version": 3
   },
   "file_extension": ".py",
   "mimetype": "text/x-python",
   "name": "python",
   "nbconvert_exporter": "python",
   "pygments_lexer": "ipython3",
   "version": "3.12.2"
  }
 },
 "nbformat": 4,
 "nbformat_minor": 2
}
