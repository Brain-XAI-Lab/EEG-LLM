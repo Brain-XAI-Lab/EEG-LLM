{
 "cells": [
  {
   "cell_type": "code",
   "id": "initial_id",
   "metadata": {
    "collapsed": true,
    "ExecuteTime": {
     "end_time": "2024-07-23T01:34:47.904559Z",
     "start_time": "2024-07-23T01:34:47.717886Z"
    }
   },
   "source": [
    "import os\n",
    "import openai\n",
    "from openai import OpenAI\n",
    "import json"
   ],
   "outputs": [],
   "execution_count": 1
  },
  {
   "metadata": {
    "ExecuteTime": {
     "end_time": "2024-07-23T01:34:48.473849Z",
     "start_time": "2024-07-23T01:34:48.468038Z"
    }
   },
   "cell_type": "code",
   "source": [
    "def load_jsonl(jsonl_dir):\n",
    "    \"\"\"\n",
    "    JSONL 파일을 로드\n",
    "    :param jsonl_dir: 불러올 JSONL 파일 경로\n",
    "    :return: JSONL 파일의 데이터\n",
    "    \"\"\"\n",
    "    with open(jsonl_dir, 'r') as jsonl_file:\n",
    "        jsonl_data = jsonl_file.readlines()\n",
    "    return jsonl_data"
   ],
   "id": "d4a45d9f1e43c791",
   "outputs": [],
   "execution_count": 2
  },
  {
   "metadata": {
    "ExecuteTime": {
     "end_time": "2024-07-23T01:34:49.136312Z",
     "start_time": "2024-07-23T01:34:49.117786Z"
    }
   },
   "cell_type": "code",
   "source": [
    "openai.api_key = os.getenv(\"OPENAI_API_KEY\")\n",
    "client = OpenAI()\n",
    "train_jsonl_dir = '/Users/imdohyeon/Documents/PythonWorkspace/EEG-GPT/Dataset/jsonl/train.jsonl'"
   ],
   "id": "45d3833091113873",
   "outputs": [],
   "execution_count": 3
  },
  {
   "metadata": {
    "ExecuteTime": {
     "end_time": "2024-07-23T01:34:55.191184Z",
     "start_time": "2024-07-23T01:34:53.068495Z"
    }
   },
   "cell_type": "code",
   "source": [
    "# load data\n",
    "client.files.create(\n",
    "    file=open(train_jsonl_dir, 'rb'),\n",
    "    purpose='fine-tune'\n",
    ")\n",
    "print(f\"Loaded {train_jsonl_dir}\")"
   ],
   "id": "a7209c5592fb2d8b",
   "outputs": [
    {
     "name": "stdout",
     "output_type": "stream",
     "text": [
      "Loaded /Users/imdohyeon/Documents/PythonWorkspace/EEG-GPT/Dataset/jsonl/train.jsonl\n"
     ]
    }
   ],
   "execution_count": 4
  },
  {
   "metadata": {
    "ExecuteTime": {
     "end_time": "2024-07-23T01:34:57.213124Z",
     "start_time": "2024-07-23T01:34:56.639732Z"
    }
   },
   "cell_type": "code",
   "source": "client.files.list()",
   "id": "617929801d4428d4",
   "outputs": [
    {
     "data": {
      "text/plain": [
       "SyncPage[FileObject](data=[FileObject(id='file-2YiEk0JyCbdZypIvwCjWROeV', bytes=349354, created_at=1721698494, filename='train.jsonl', object='file', purpose='fine-tune', status='processed', status_details=None), FileObject(id='file-7LVOmE6PKDLMmbI1c9e96avi', bytes=349354, created_at=1721698448, filename='train.jsonl', object='file', purpose='fine-tune', status='processed', status_details=None), FileObject(id='file-lAbgNWZExv5BRdU9IOk2wUkJ', bytes=87301, created_at=1721098699, filename='test.jsonl', object='file', purpose='fine-tune', status='processed', status_details=None), FileObject(id='file-DZkekWJg8IBvJvo25z8w1QFO', bytes=349354, created_at=1721098683, filename='train.jsonl', object='file', purpose='fine-tune', status='processed', status_details=None), FileObject(id='file-w2jeLlf2lxmIhWNhpqaOPMkb', bytes=87301, created_at=1721098614, filename='test.jsonl', object='file', purpose='fine-tune', status='processed', status_details=None), FileObject(id='file-Ogm8JZzB5HnT3vjtGU19RFAf', bytes=349354, created_at=1721097522, filename='train.jsonl', object='file', purpose='fine-tune', status='processed', status_details=None), FileObject(id='file-CVIgoJSr0jOu6iq6QvP4brBE', bytes=155138, created_at=1719474266, filename='fine_tuning_data.jsonl', object='file', purpose='fine-tune', status='processed', status_details=None), FileObject(id='file-gG62c2YPj7ltxRNic0JtQS6D', bytes=155138, created_at=1719474252, filename='fine_tuning_data.jsonl', object='file', purpose='fine-tune', status='processed', status_details=None), FileObject(id='file-bP4t3xp2ZdQZJNBBiDyuStqp', bytes=155138, created_at=1719474208, filename='fine_tuning_data.jsonl', object='file', purpose='fine-tune', status='processed', status_details=None), FileObject(id='file-ZQHl925ADwsecRoyjWYkuJEq', bytes=155138, created_at=1719474184, filename='fine_tuning_data.jsonl', object='file', purpose='fine-tune', status='processed', status_details=None), FileObject(id='file-z1ybtuHxsRac0bj1fhbG9RMC', bytes=155138, created_at=1718071806, filename='fine_tuning_data.jsonl', object='file', purpose='fine-tune', status='processed', status_details=None), FileObject(id='file-zSIQb2wMFvnUXmO1gZwAo0wO', bytes=155138, created_at=1718071798, filename='fine_tuning_data.jsonl', object='file', purpose='fine-tune', status='processed', status_details=None), FileObject(id='file-wcd5CaE9qXrwvIDbVqdAiuHY', bytes=155138, created_at=1718071750, filename='fine_tuning_data.jsonl', object='file', purpose='fine-tune', status='processed', status_details=None), FileObject(id='file-nfgHVDJSHo2XeAEsqFUKz79R', bytes=155138, created_at=1718071660, filename='fine_tuning_data.jsonl', object='file', purpose='fine-tune', status='processed', status_details=None), FileObject(id='file-60ucbz3gRtNzOKcshMpkCEeB', bytes=155138, created_at=1718071621, filename='fine_tuning_data.jsonl', object='file', purpose='fine-tune', status='processed', status_details=None), FileObject(id='file-sUJK2bhU8cMllEnfzTglM5Bs', bytes=155138, created_at=1718071573, filename='fine_tuning_data.jsonl', object='file', purpose='fine-tune', status='processed', status_details=None)], object='list', has_more=False)"
      ]
     },
     "execution_count": 5,
     "metadata": {},
     "output_type": "execute_result"
    }
   ],
   "execution_count": 5
  },
  {
   "metadata": {
    "ExecuteTime": {
     "end_time": "2024-07-23T01:35:01.459578Z",
     "start_time": "2024-07-23T01:35:00.648769Z"
    }
   },
   "cell_type": "code",
   "source": [
    "# 다른 방식의 file 로드 방법론 필요 (중복)\n",
    "test_jsonl_dir = '/Users/imdohyeon/Documents/PythonWorkspace/EEG-GPT/Dataset/jsonl/test.jsonl'\n",
    "client.files.create(\n",
    "        file=open(test_jsonl_dir, 'rb'),\n",
    "        purpose='fine-tune'\n",
    "    )\n",
    "print(f\"Loaded {test_jsonl_dir}\")"
   ],
   "id": "52599fea19d36499",
   "outputs": [
    {
     "name": "stdout",
     "output_type": "stream",
     "text": [
      "Loaded /Users/imdohyeon/Documents/PythonWorkspace/EEG-GPT/Dataset/jsonl/test.jsonl\n"
     ]
    }
   ],
   "execution_count": 6
  },
  {
   "metadata": {
    "ExecuteTime": {
     "end_time": "2024-07-23T01:35:01.924734Z",
     "start_time": "2024-07-23T01:35:01.464112Z"
    }
   },
   "cell_type": "code",
   "source": "client.files.list()",
   "id": "5d0669022a444369",
   "outputs": [
    {
     "data": {
      "text/plain": [
       "SyncPage[FileObject](data=[FileObject(id='file-cHnGZVujV9kZtKD5j26RPbek', bytes=87301, created_at=1721698501, filename='test.jsonl', object='file', purpose='fine-tune', status='processed', status_details=None), FileObject(id='file-2YiEk0JyCbdZypIvwCjWROeV', bytes=349354, created_at=1721698494, filename='train.jsonl', object='file', purpose='fine-tune', status='processed', status_details=None), FileObject(id='file-7LVOmE6PKDLMmbI1c9e96avi', bytes=349354, created_at=1721698448, filename='train.jsonl', object='file', purpose='fine-tune', status='processed', status_details=None), FileObject(id='file-lAbgNWZExv5BRdU9IOk2wUkJ', bytes=87301, created_at=1721098699, filename='test.jsonl', object='file', purpose='fine-tune', status='processed', status_details=None), FileObject(id='file-DZkekWJg8IBvJvo25z8w1QFO', bytes=349354, created_at=1721098683, filename='train.jsonl', object='file', purpose='fine-tune', status='processed', status_details=None), FileObject(id='file-w2jeLlf2lxmIhWNhpqaOPMkb', bytes=87301, created_at=1721098614, filename='test.jsonl', object='file', purpose='fine-tune', status='processed', status_details=None), FileObject(id='file-Ogm8JZzB5HnT3vjtGU19RFAf', bytes=349354, created_at=1721097522, filename='train.jsonl', object='file', purpose='fine-tune', status='processed', status_details=None), FileObject(id='file-CVIgoJSr0jOu6iq6QvP4brBE', bytes=155138, created_at=1719474266, filename='fine_tuning_data.jsonl', object='file', purpose='fine-tune', status='processed', status_details=None), FileObject(id='file-gG62c2YPj7ltxRNic0JtQS6D', bytes=155138, created_at=1719474252, filename='fine_tuning_data.jsonl', object='file', purpose='fine-tune', status='processed', status_details=None), FileObject(id='file-bP4t3xp2ZdQZJNBBiDyuStqp', bytes=155138, created_at=1719474208, filename='fine_tuning_data.jsonl', object='file', purpose='fine-tune', status='processed', status_details=None), FileObject(id='file-ZQHl925ADwsecRoyjWYkuJEq', bytes=155138, created_at=1719474184, filename='fine_tuning_data.jsonl', object='file', purpose='fine-tune', status='processed', status_details=None), FileObject(id='file-z1ybtuHxsRac0bj1fhbG9RMC', bytes=155138, created_at=1718071806, filename='fine_tuning_data.jsonl', object='file', purpose='fine-tune', status='processed', status_details=None), FileObject(id='file-zSIQb2wMFvnUXmO1gZwAo0wO', bytes=155138, created_at=1718071798, filename='fine_tuning_data.jsonl', object='file', purpose='fine-tune', status='processed', status_details=None), FileObject(id='file-wcd5CaE9qXrwvIDbVqdAiuHY', bytes=155138, created_at=1718071750, filename='fine_tuning_data.jsonl', object='file', purpose='fine-tune', status='processed', status_details=None), FileObject(id='file-nfgHVDJSHo2XeAEsqFUKz79R', bytes=155138, created_at=1718071660, filename='fine_tuning_data.jsonl', object='file', purpose='fine-tune', status='processed', status_details=None), FileObject(id='file-60ucbz3gRtNzOKcshMpkCEeB', bytes=155138, created_at=1718071621, filename='fine_tuning_data.jsonl', object='file', purpose='fine-tune', status='processed', status_details=None), FileObject(id='file-sUJK2bhU8cMllEnfzTglM5Bs', bytes=155138, created_at=1718071573, filename='fine_tuning_data.jsonl', object='file', purpose='fine-tune', status='processed', status_details=None)], object='list', has_more=False)"
      ]
     },
     "execution_count": 7,
     "metadata": {},
     "output_type": "execute_result"
    }
   ],
   "execution_count": 7
  },
  {
   "metadata": {
    "ExecuteTime": {
     "end_time": "2024-07-23T01:36:17.915348Z",
     "start_time": "2024-07-23T01:36:17.908190Z"
    }
   },
   "cell_type": "code",
   "source": "",
   "id": "5f55ee145071f32c",
   "outputs": [],
   "execution_count": 8
  }
 ],
 "metadata": {
  "kernelspec": {
   "display_name": "Python 3",
   "language": "python",
   "name": "python3"
  },
  "language_info": {
   "codemirror_mode": {
    "name": "ipython",
    "version": 2
   },
   "file_extension": ".py",
   "mimetype": "text/x-python",
   "name": "python",
   "nbconvert_exporter": "python",
   "pygments_lexer": "ipython2",
   "version": "2.7.6"
  }
 },
 "nbformat": 4,
 "nbformat_minor": 5
}
