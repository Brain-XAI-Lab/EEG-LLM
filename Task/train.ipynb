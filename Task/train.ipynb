{
 "cells": [
  {
   "metadata": {
    "ExecuteTime": {
     "end_time": "2024-08-08T06:35:42.865295Z",
     "start_time": "2024-08-08T06:35:42.467932Z"
    }
   },
   "cell_type": "code",
   "source": [
    "import os\n",
    "from openai import OpenAI\n",
    "import openai\n",
    "import json\n",
    "from Preprocessing.feature_extraction import load_eeg_data"
   ],
   "id": "da23e13439f09fee",
   "outputs": [],
   "execution_count": 1
  },
  {
   "metadata": {
    "ExecuteTime": {
     "end_time": "2024-08-08T06:35:42.881505Z",
     "start_time": "2024-08-08T06:35:42.868301Z"
    }
   },
   "cell_type": "code",
   "source": [
    "openai.api_key = os.getenv(\"OPENAI_API_KEY\")\n",
    "client = OpenAI()"
   ],
   "id": "f851ce7addea6893",
   "outputs": [],
   "execution_count": 2
  },
  {
   "metadata": {
    "ExecuteTime": {
     "end_time": "2024-08-08T06:35:45.915329Z",
     "start_time": "2024-08-08T06:35:45.910970Z"
    }
   },
   "cell_type": "code",
   "source": [
    "def create_file(train_jsonl_dir, val_jsonl_dir):\n",
    "    \"\"\"\n",
    "    Create a file in the OpenAI API\n",
    "    After creating the file, you should see the file ID(train/test) in the website(platform.openai.com).\n",
    "    :param train_jsonl_dir: A directory of the train data in jsonl format\n",
    "    :param val_jsonl_dir: A directory of the test data in jsonl format\n",
    "    :return:\n",
    "    \"\"\"\n",
    "    # load train data\n",
    "    client.files.create(\n",
    "        file=open(train_jsonl_dir, 'rb'),\n",
    "        purpose='fine-tune'\n",
    "    )\n",
    "    print(f\"Loaded {train_jsonl_dir}\")\n",
    "\n",
    "    # load validation data\n",
    "    client.files.create(\n",
    "        file=open(val_jsonl_dir, 'rb'),\n",
    "        purpose='fine-tune'\n",
    "    )\n",
    "    print(f\"Loaded {val_jsonl_dir}\")"
   ],
   "id": "218ef2ad2720fb02",
   "outputs": [],
   "execution_count": 3
  },
  {
   "metadata": {
    "ExecuteTime": {
     "end_time": "2024-08-08T06:35:49.032668Z",
     "start_time": "2024-08-08T06:35:49.028949Z"
    }
   },
   "cell_type": "code",
   "source": [
    "base_path = '/Users/imdohyeon/Library/CloudStorage/GoogleDrive-dhlim1598@gmail.com/공유 드라이브/4N_PKNU/BXAI/EEG-LLM/Dataset/'\n",
    "train_jsonl_dir = base_path + '9ch/jsonl/train_9ch.jsonl'\n",
    "val_jsonl_dir = base_path + '9ch/jsonl/val_9ch.jsonl'"
   ],
   "id": "f12393506933aade",
   "outputs": [],
   "execution_count": 4
  },
  {
   "metadata": {
    "ExecuteTime": {
     "end_time": "2024-08-08T06:35:51.715692Z",
     "start_time": "2024-08-08T06:35:51.711644Z"
    }
   },
   "cell_type": "code",
   "source": [
    "window_size = 1000\n",
    "# selected_columns = [13, 28, 31, 34]  # 4ch\n",
    "selected_columns = [10, 13, 16, 28, 31, 34, 46, 49, 52]  # 9ch\n",
    "test_csv = base_path + 'test.csv'"
   ],
   "id": "207cfe54d960e2a2",
   "outputs": [],
   "execution_count": 5
  },
  {
   "metadata": {
    "ExecuteTime": {
     "end_time": "2024-08-08T06:35:57.233297Z",
     "start_time": "2024-08-08T06:35:55.526680Z"
    }
   },
   "cell_type": "code",
   "source": "create_file(train_jsonl_dir, val_jsonl_dir)",
   "id": "9e3df714e527f37c",
   "outputs": [
    {
     "name": "stdout",
     "output_type": "stream",
     "text": [
      "Loaded /Users/imdohyeon/Library/CloudStorage/GoogleDrive-dhlim1598@gmail.com/공유 드라이브/4N_PKNU/BXAI/EEG-LLM/Dataset/9ch/jsonl/train_9ch.jsonl\n",
      "Loaded /Users/imdohyeon/Library/CloudStorage/GoogleDrive-dhlim1598@gmail.com/공유 드라이브/4N_PKNU/BXAI/EEG-LLM/Dataset/9ch/jsonl/val_9ch.jsonl\n"
     ]
    }
   ],
   "execution_count": 6
  },
  {
   "metadata": {
    "ExecuteTime": {
     "end_time": "2024-08-08T06:36:24.447738Z",
     "start_time": "2024-08-08T06:36:24.443072Z"
    }
   },
   "cell_type": "code",
   "source": [
    "training_file = 'your-file-id'  # Ensure this should be checked in the website(platform.openai.com)\n",
    "val_file = 'your-file-id'  # Ensure this should be checked in the website(platform.openai.com)\n",
    "model = 'gpt-3.5-turbo-1106'"
   ],
   "id": "3b0b87ded26ff4d3",
   "outputs": [],
   "execution_count": 7
  },
  {
   "metadata": {
    "ExecuteTime": {
     "end_time": "2024-08-08T06:36:34.927704Z",
     "start_time": "2024-08-08T06:36:34.923044Z"
    }
   },
   "cell_type": "code",
   "source": [
    "def train(training_file, val_file, model):\n",
    "    \"\"\"\n",
    "    Fine-tuning the GPT model.\n",
    "    After training, you should check the name of the model in the website(platform.openai.com).\n",
    "    :param training_file: The ID of the training file\n",
    "    :param val_file: The ID of the validation file\n",
    "    :param model: anything you want(davinci-002 / gpt-3.5-turbo / and so on)\n",
    "    \"\"\"\n",
    "    # start fine-tuning\n",
    "    client.fine_tuning.jobs.create(\n",
    "        training_file=training_file,\n",
    "        validation_file=val_file,\n",
    "        model=model\n",
    "        # default=auto, thus it doesn't need to be specified\n",
    "        # hyperparameters={\n",
    "        #     'n_epochs':10,\n",
    "        #     'batch_size':16,\n",
    "        #     'learning_rate_multiplier':1e-4\n",
    "        # }\n",
    "    )\n",
    "\n",
    "    print(\"Fine-tuning started.\")"
   ],
   "id": "a205a6c5284a685",
   "outputs": [],
   "execution_count": 9
  },
  {
   "metadata": {
    "ExecuteTime": {
     "end_time": "2024-08-08T06:36:38.203865Z",
     "start_time": "2024-08-08T06:36:35.115541Z"
    }
   },
   "cell_type": "code",
   "source": "train(training_file, val_file, model)",
   "id": "e532a9ed79a457e4",
   "outputs": [
    {
     "name": "stdout",
     "output_type": "stream",
     "text": [
      "Fine-tuning started.\n"
     ]
    }
   ],
   "execution_count": 10
  },
  {
   "metadata": {},
   "cell_type": "code",
   "source": "",
   "id": "2e2202dd974be7d7",
   "outputs": [],
   "execution_count": null
  }
 ],
 "metadata": {
  "kernelspec": {
   "display_name": "Python 3",
   "language": "python",
   "name": "python3"
  },
  "language_info": {
   "codemirror_mode": {
    "name": "ipython",
    "version": 2
   },
   "file_extension": ".py",
   "mimetype": "text/x-python",
   "name": "python",
   "nbconvert_exporter": "python",
   "pygments_lexer": "ipython2",
   "version": "2.7.6"
  }
 },
 "nbformat": 4,
 "nbformat_minor": 5
}
