{
 "cells": [
  {
   "cell_type": "code",
   "id": "initial_id",
   "metadata": {
    "collapsed": true,
    "ExecuteTime": {
     "end_time": "2024-05-24T11:45:55.470336Z",
     "start_time": "2024-05-24T11:45:55.260299Z"
    }
   },
   "source": [
    "from openai import OpenAI\n",
    "import pandas as pd\n",
    "import json\n",
    "import numpy as np"
   ],
   "outputs": [],
   "execution_count": 1
  },
  {
   "metadata": {
    "ExecuteTime": {
     "end_time": "2024-05-24T11:46:10.450852Z",
     "start_time": "2024-05-24T11:46:10.449206Z"
    }
   },
   "cell_type": "code",
   "source": [
    "def extract_features(window):\n",
    "    features = {\n",
    "        \"90th_percentile\": np.percentile(window, 90),\n",
    "        \"std_dev\": np.std(window),\n",
    "        \"kurtosis\": pd.Series(window).kurtosis(),\n",
    "        # Add other feature extractions as needed\n",
    "    }\n",
    "    return features"
   ],
   "id": "5c2c669b732971f4",
   "outputs": [],
   "execution_count": null
  },
  {
   "metadata": {},
   "cell_type": "code",
   "outputs": [],
   "execution_count": null,
   "source": [
    "# Example usage\n",
    "# Assuming 'data.csv' is the CSV file, window_size is 500 (2 seconds at 250 Hz), and selected_columns are ['Cz', 'T5', 'T6', 'O1', 'O2']\n",
    "data = 'data.csv'\n",
    "window_size = 500\n",
    "selected_columns = ['Cz', 'T5', 'T6', 'O1', 'O2']\n",
    "\n",
    "json_result = csv_to_json(data, window_size, selected_columns)\n",
    "\n",
    "# The json_result contains the array of JSON objects\n",
    "print(json.dumps(json_result, indent=4))\n"
   ],
   "id": "b1b6f2978adc6b13"
  }
 ],
 "metadata": {
  "kernelspec": {
   "display_name": "Python 3",
   "language": "python",
   "name": "python3"
  },
  "language_info": {
   "codemirror_mode": {
    "name": "ipython",
    "version": 2
   },
   "file_extension": ".py",
   "mimetype": "text/x-python",
   "name": "python",
   "nbconvert_exporter": "python",
   "pygments_lexer": "ipython2",
   "version": "2.7.6"
  }
 },
 "nbformat": 4,
 "nbformat_minor": 5
}
