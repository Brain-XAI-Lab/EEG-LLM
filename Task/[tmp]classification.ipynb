{
 "cells": [
  {
   "metadata": {
    "ExecuteTime": {
     "end_time": "2024-05-24T11:45:01.497646Z",
     "start_time": "2024-05-24T11:45:01.264272Z"
    }
   },
   "cell_type": "code",
   "source": "from openai import OpenAI",
   "id": "63deb423f34fac87",
   "outputs": [],
   "execution_count": 1
  },
  {
   "metadata": {},
   "cell_type": "markdown",
   "source": "### Load fine-tuned model",
   "id": "ece9e45840126080"
  },
  {
   "metadata": {},
   "cell_type": "code",
   "source": [
    "client = OpenAI()\n",
    "\n",
    "\n",
    "completion = client.chat.completions.create(\n",
    "  # model=\"ft:gpt-3.5-turbo:my-org:custom_suffix:id\",\n",
    "  messages=[\n",
    "    {\"role\": \"system\", \"content\": \"You are a helpful assistant who classifies between 4 tasks(left hand, right hand, feet, tongue) from EEG data.\"},\n",
    "    {\"role\": \"user\", \"content\": \"Hello!\"}\n",
    "  ]\n",
    ")\n",
    "print(completion.choices[0].message)"
   ],
   "id": "d8e8493984fa5d6d",
   "outputs": [],
   "execution_count": null
  },
  {
   "metadata": {},
   "cell_type": "code",
   "outputs": [],
   "execution_count": null,
   "source": "# TODO: messages에 json 받아와 채팅에 입력하도록 구현",
   "id": "8cd54f928a1b9ea3"
  }
 ],
 "metadata": {
  "kernelspec": {
   "display_name": "Python 3",
   "language": "python",
   "name": "python3"
  },
  "language_info": {
   "codemirror_mode": {
    "name": "ipython",
    "version": 2
   },
   "file_extension": ".py",
   "mimetype": "text/x-python",
   "name": "python",
   "nbconvert_exporter": "python",
   "pygments_lexer": "ipython2",
   "version": "2.7.6"
  }
 },
 "nbformat": 4,
 "nbformat_minor": 5
}
