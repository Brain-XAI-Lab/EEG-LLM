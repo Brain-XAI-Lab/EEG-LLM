{
 "cells": [
  {
   "cell_type": "code",
   "execution_count": null,
   "id": "initial_id",
   "metadata": {
    "collapsed": true,
    "ExecuteTime": {
     "end_time": "2024-03-31T07:48:11.946977Z",
     "start_time": "2024-03-31T07:48:11.943218Z"
    }
   },
   "outputs": [],
   "source": [
    "from openai import openAI\n"
   ]
  },
  {
   "cell_type": "markdown",
   "source": [
    "### Upload a training file"
   ],
   "metadata": {
    "collapsed": false
   },
   "id": "b1df2294b2a6e58b"
  },
  {
   "cell_type": "code",
   "execution_count": null,
   "outputs": [],
   "source": [
    "client = openAI()\n",
    "\n",
    "client.files.create(\n",
    "  file=open(\"mydata.jsonl\", \"rb\"),\n",
    "  purpose=\"fine-tune\"\n",
    ")"
   ],
   "metadata": {
    "collapsed": false
   },
   "id": "ba58aaddb7547e84"
  },
  {
   "cell_type": "markdown",
   "source": [
    "### Create a fine-tuned model"
   ],
   "metadata": {
    "collapsed": false
   },
   "id": "be8a973feae53368"
  },
  {
   "cell_type": "code",
   "execution_count": null,
   "outputs": [],
   "source": [
    "client.fine_tuning.jobs.create(\n",
    "  training_file=\"file-abc123\", \n",
    "  model=\"davinci-002\",\n",
    "  hyperparameters={\n",
    "      \"n_epochs\":2\n",
    "  }\n",
    ")"
   ],
   "metadata": {
    "collapsed": false
   },
   "id": "149280126354e6ff"
  },
  {
   "cell_type": "code",
   "execution_count": null,
   "outputs": [],
   "source": [
    "# below is sample code by OpenAI\n",
    "\n",
    "# List 10 fine-tuning jobs\n",
    "client.fine_tuning.jobs.list(limit=10)\n",
    "\n",
    "# Retrieve the state of a fine-tune\n",
    "client.fine_tuning.jobs.retrieve(\"ftjob-abc123\")\n",
    "\n",
    "# Cancel a job\n",
    "client.fine_tuning.jobs.cancel(\"ftjob-abc123\")\n",
    "\n",
    "# List up to 10 events from a fine-tuning job\n",
    "client.fine_tuning.jobs.list_events(fine_tuning_job_id=\"ftjob-abc123\", limit=10)\n",
    "\n",
    "# Delete a fine-tuned model (must be an owner of the org the model was created in)\n",
    "client.models.delete(\"ft:gpt-3.5-turbo:acemeco:suffix:abc123\")"
   ],
   "metadata": {
    "collapsed": false
   },
   "id": "ca61b289e65dee39"
  }
 ],
 "metadata": {
  "kernelspec": {
   "display_name": "Python 3",
   "language": "python",
   "name": "python3"
  },
  "language_info": {
   "codemirror_mode": {
    "name": "ipython",
    "version": 2
   },
   "file_extension": ".py",
   "mimetype": "text/x-python",
   "name": "python",
   "nbconvert_exporter": "python",
   "pygments_lexer": "ipython2",
   "version": "2.7.6"
  }
 },
 "nbformat": 4,
 "nbformat_minor": 5
}
